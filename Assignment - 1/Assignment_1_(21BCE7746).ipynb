{
  "nbformat": 4,
  "nbformat_minor": 0,
  "metadata": {
    "colab": {
      "provenance": []
    },
    "kernelspec": {
      "name": "python3",
      "display_name": "Python 3"
    },
    "language_info": {
      "name": "python"
    }
  },
  "cells": [
    {
      "cell_type": "markdown",
      "source": [
        "# **ASSIGNMENT - 1**\n",
        "SmartBridge AI ML (Evening Batch)\n",
        "\n",
        "AHILL SAVIO ARUL AMUTHAN 21BCE7746"
      ],
      "metadata": {
        "id": "UHOjAXXG73da"
      }
    },
    {
      "cell_type": "markdown",
      "source": [
        "# **Task - 1**\n",
        "Create a pandas dataframe (DataFrame name as 'df') with numpy random values (4 features and 4 observation)"
      ],
      "metadata": {
        "id": "xRClQ5BV7Ym7"
      }
    },
    {
      "cell_type": "code",
      "source": [
        "# Import the necessary modules\n",
        "import pandas as pd\n",
        "import numpy as np"
      ],
      "metadata": {
        "id": "eCOUgZre7_Zt"
      },
      "execution_count": null,
      "outputs": []
    },
    {
      "cell_type": "code",
      "source": [
        "np.random.seed(42)\n",
        "observation_num = 4\n",
        "features_num = 4\n",
        "random_values = np.random.rand(observation_num, features_num)\n",
        "df = pd.DataFrame(random_values, columns=['Feature1', 'Feature2', 'Feature3', 'Feature4'])\n",
        "print(df)"
      ],
      "metadata": {
        "colab": {
          "base_uri": "https://localhost:8080/"
        },
        "id": "Bbp0UYrQ8P0H",
        "outputId": "d13301ee-2879-4524-cf2f-897bba869fb0"
      },
      "execution_count": null,
      "outputs": [
        {
          "output_type": "stream",
          "name": "stdout",
          "text": [
            "   Feature1  Feature2  Feature3  Feature4\n",
            "0  0.374540  0.950714  0.731994  0.598658\n",
            "1  0.156019  0.155995  0.058084  0.866176\n",
            "2  0.601115  0.708073  0.020584  0.969910\n",
            "3  0.832443  0.212339  0.181825  0.183405\n"
          ]
        }
      ]
    },
    {
      "cell_type": "markdown",
      "source": [
        "## **Task - 2**\n",
        "Rename the task - 1 'df' dataframe column names to 'Random value 1', 'Random value 2', 'Random value 3' & 'Random value 4'"
      ],
      "metadata": {
        "id": "TpmrBed29I-x"
      }
    },
    {
      "cell_type": "code",
      "source": [
        "column_names_new = {\n",
        "    'Feature1' : 'Random Value 1',\n",
        "    'Feature2' : 'Random Value 2',\n",
        "    'Feature3' : 'Random Value 3',\n",
        "    'Feature4' : 'Random Value 4',\n",
        "}\n",
        "\n",
        "df = df.rename(columns=column_names_new)\n",
        "print(df)"
      ],
      "metadata": {
        "colab": {
          "base_uri": "https://localhost:8080/"
        },
        "id": "fM2IUUho9QVi",
        "outputId": "c86daa6b-f994-4c55-b9ef-a3e93bb2e323"
      },
      "execution_count": null,
      "outputs": [
        {
          "output_type": "stream",
          "name": "stdout",
          "text": [
            "   Random Value 1  Random Value 2  Random Value 3  Random Value 4\n",
            "0        0.374540        0.950714        0.731994        0.598658\n",
            "1        0.156019        0.155995        0.058084        0.866176\n",
            "2        0.601115        0.708073        0.020584        0.969910\n",
            "3        0.832443        0.212339        0.181825        0.183405\n"
          ]
        }
      ]
    },
    {
      "cell_type": "markdown",
      "source": [
        "# **Task - 3**\n",
        "Find the descriptive statistics of the 'df' dataframe."
      ],
      "metadata": {
        "id": "J6Ik_vaU92FZ"
      }
    },
    {
      "cell_type": "code",
      "source": [
        "descriptive_statistics = df.describe()\n",
        "print(descriptive_statistics)"
      ],
      "metadata": {
        "colab": {
          "base_uri": "https://localhost:8080/"
        },
        "id": "X2lGQMaQ9-UQ",
        "outputId": "18186936-e561-4c15-bb81-4e75069fe60a"
      },
      "execution_count": null,
      "outputs": [
        {
          "output_type": "stream",
          "name": "stdout",
          "text": [
            "       Random Value 1  Random Value 2  Random Value 3  Random Value 4\n",
            "count        4.000000        4.000000        4.000000        4.000000\n",
            "mean         0.491029        0.506780        0.248122        0.654537\n",
            "std          0.291252        0.386153        0.329856        0.350875\n",
            "min          0.156019        0.155995        0.020584        0.183405\n",
            "25%          0.319910        0.198253        0.048709        0.494845\n",
            "50%          0.487828        0.460206        0.119954        0.732417\n",
            "75%          0.658947        0.768733        0.319367        0.892110\n",
            "max          0.832443        0.950714        0.731994        0.969910\n"
          ]
        }
      ]
    },
    {
      "cell_type": "markdown",
      "source": [
        "# **Task - 4**\n",
        "Check for the null values in 'df' and find the data type of the columns."
      ],
      "metadata": {
        "id": "lRzdHqr0-RbS"
      }
    },
    {
      "cell_type": "code",
      "source": [
        "# Checks if null values are present\n",
        "null_values = df.isnull().sum()\n",
        "\n",
        "# Data types of columns\n",
        "data_types = df.dtypes\n",
        "print(\"Null Values: \")\n",
        "print(null_values)\n",
        "print(\"\\n Data types: \")\n",
        "print(data_types)"
      ],
      "metadata": {
        "colab": {
          "base_uri": "https://localhost:8080/"
        },
        "id": "ZIyYZoGF-VJ7",
        "outputId": "0320ab66-727a-4061-daa2-fe8fc6ce40f9"
      },
      "execution_count": null,
      "outputs": [
        {
          "output_type": "stream",
          "name": "stdout",
          "text": [
            "Null Values: \n",
            "Random Value 1    0\n",
            "Random Value 2    0\n",
            "Random Value 3    0\n",
            "Random Value 4    0\n",
            "dtype: int64\n",
            "\n",
            " Data types: \n",
            "Random Value 1    float64\n",
            "Random Value 2    float64\n",
            "Random Value 3    float64\n",
            "Random Value 4    float64\n",
            "dtype: object\n"
          ]
        }
      ]
    },
    {
      "cell_type": "markdown",
      "source": [
        "# **Task - 5**\n",
        "Display the 'Random value 2' & 'Random value 3' columns with location method and index location method."
      ],
      "metadata": {
        "id": "cxP-aGN4AAZw"
      }
    },
    {
      "cell_type": "code",
      "source": [
        "rv_2_loc = df.loc[:, 'Random Value 2']\n",
        "rv_3_loc = df.loc[:, 'Random Value 3']\n",
        "print(\"Using location method: \")\n",
        "print(rv_2_loc)\n",
        "print(rv_3_loc)"
      ],
      "metadata": {
        "colab": {
          "base_uri": "https://localhost:8080/"
        },
        "id": "GxkO-wuiAD3m",
        "outputId": "19f026ba-6607-4ef7-bc8f-f4c14e26ac7c"
      },
      "execution_count": null,
      "outputs": [
        {
          "output_type": "stream",
          "name": "stdout",
          "text": [
            "Using location method: \n",
            "0    0.950714\n",
            "1    0.155995\n",
            "2    0.708073\n",
            "3    0.212339\n",
            "Name: Random Value 2, dtype: float64\n",
            "0    0.731994\n",
            "1    0.058084\n",
            "2    0.020584\n",
            "3    0.181825\n",
            "Name: Random Value 3, dtype: float64\n"
          ]
        }
      ]
    }
  ]
}